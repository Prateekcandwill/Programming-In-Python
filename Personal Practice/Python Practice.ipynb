{
  "cells": [
    {
      "cell_type": "code",
      "execution_count": null,
      "metadata": {
        "id": "U9RyopQC-rhw"
      },
      "outputs": [],
      "source": [
        "# Guido Von Rossum\n",
        "\n",
        "# Monty Python's flying circus - name"
      ]
    },
    {
      "cell_type": "code",
      "execution_count": null,
      "metadata": {
        "colab": {
          "base_uri": "https://localhost:8080/"
        },
        "id": "wuwRA4A__T7U",
        "outputId": "dd26c3d3-f0c7-4dc9-ed38-8577b36e4c72"
      },
      "outputs": [
        {
          "name": "stdout",
          "output_type": "stream",
          "text": [
            "Hello World\n"
          ]
        }
      ],
      "source": [
        "# function - an utility to perform certain task\n",
        "\n",
        "# print - in-built function used to print some message on screen\n",
        "\n",
        "# - a comment, that line will not be executed\n",
        "\n",
        "# call a function - function_name(arguments)\n",
        "\n",
        "print(\"Hello World\")"
      ]
    },
    {
      "cell_type": "markdown",
      "source": [],
      "metadata": {
        "id": "gOVjFb0ykKuU"
      }
    },
    {
      "cell_type": "code",
      "execution_count": null,
      "metadata": {
        "id": "qgsBF_pyBiZq"
      },
      "outputs": [],
      "source": [
        "# Variable - a placeholder to store your data"
      ]
    },
    {
      "cell_type": "code",
      "execution_count": null,
      "metadata": {
        "colab": {
          "base_uri": "https://localhost:8080/"
        },
        "id": "ZQmJNWtiBBim",
        "outputId": "92e67d99-e58b-4a4e-967b-ec72c71ceb14"
      },
      "outputs": [
        {
          "name": "stdout",
          "output_type": "stream",
          "text": [
            "Enter your name: Abhishek\n",
            "Welcome Abhishek\n"
          ]
        }
      ],
      "source": [
        "# input() function - take user input\n",
        "\n",
        "name = input(\"Enter your name: \")\n",
        "#print(name)\n",
        "\n",
        "print(\"Welcome\",name)\n",
        "\n",
        "\n",
        "\n",
        "\n",
        "\n"
      ]
    },
    {
      "cell_type": "code",
      "execution_count": null,
      "metadata": {
        "colab": {
          "base_uri": "https://localhost:8080/"
        },
        "id": "YIWBr3qYDt0b",
        "outputId": "26f538bb-d84c-4ea0-c93a-04bd8915c8bb"
      },
      "outputs": [
        {
          "data": {
            "text/plain": [
              "str"
            ]
          },
          "execution_count": 7,
          "metadata": {},
          "output_type": "execute_result"
        }
      ],
      "source": [
        "# Datatype - The type of value stored by a variable\n",
        "\n",
        "name = \"Abhishek\"\n",
        "\n",
        "# type(variable) - used to find out the datatype\n",
        "\n",
        "#type(name)\n",
        "\n",
        "name = 123\n",
        "\n",
        "type(name)"
      ]
    },
    {
      "cell_type": "code",
      "execution_count": null,
      "metadata": {
        "colab": {
          "base_uri": "https://localhost:8080/"
        },
        "id": "Bm2uYhEXFS1b",
        "outputId": "1f2f6f59-5af7-4b38-8196-3a1904057974"
      },
      "outputs": [
        {
          "name": "stdout",
          "output_type": "stream",
          "text": [
            "('Abhishek', 123)\n"
          ]
        },
        {
          "data": {
            "text/plain": [
              "tuple"
            ]
          },
          "execution_count": 9,
          "metadata": {},
          "output_type": "execute_result"
        }
      ],
      "source": [
        "name = \"Abhishek\", 123\n",
        "\n",
        "print(name)\n",
        "\n",
        "type(name)"
      ]
    },
    {
      "cell_type": "code",
      "execution_count": null,
      "metadata": {
        "colab": {
          "base_uri": "https://localhost:8080/"
        },
        "id": "Y5ioIz4LEm7w",
        "outputId": "9541b64f-fe88-4a61-95e8-f0deae70eebf"
      },
      "outputs": [
        {
          "name": "stdout",
          "output_type": "stream",
          "text": [
            "Enter a number: 123\n",
            "123\n",
            "<class 'str'>\n"
          ]
        }
      ],
      "source": [
        "number = input(\"Enter a number: \")\n",
        "\n",
        "print(number)\n",
        "\n",
        "print(type(number))\n",
        "\n",
        "# input function interprets everything as a text\n"
      ]
    },
    {
      "cell_type": "code",
      "execution_count": null,
      "metadata": {
        "colab": {
          "base_uri": "https://localhost:8080/"
        },
        "id": "NqfQAIJ4GZAY",
        "outputId": "4de4a228-5079-4a65-f596-7aa49fb8fc76"
      },
      "outputs": [
        {
          "name": "stdout",
          "output_type": "stream",
          "text": [
            "Enter a number: 123\n",
            "123\n",
            "<class 'int'>\n"
          ]
        }
      ],
      "source": [
        "number = int(input(\"Enter a number: \"))\n",
        "\n",
        "print(number)\n",
        "\n",
        "print(type(number))"
      ]
    },
    {
      "cell_type": "code",
      "execution_count": null,
      "metadata": {
        "colab": {
          "base_uri": "https://localhost:8080/"
        },
        "id": "cKoxR6PSGwVR",
        "outputId": "60f9e2eb-ccf3-451f-d439-4369d339992c"
      },
      "outputs": [
        {
          "name": "stdout",
          "output_type": "stream",
          "text": [
            "Enter your name: Abhishek\n"
          ]
        }
      ],
      "source": [
        "# Variable naming rules\n",
        "\n",
        "# 1. A variable name should start with a letter or an underscore\n",
        "\n",
        "# 2. A variable name should consist of only letters, numbers or underscore\n",
        "\n",
        "# 3. Keywords cannot be variable names\n",
        "\n",
        "_123name = input(\"Enter your name: \")"
      ]
    },
    {
      "cell_type": "code",
      "execution_count": null,
      "metadata": {
        "colab": {
          "base_uri": "https://localhost:8080/"
        },
        "id": "ESkqXXTAOVfu",
        "outputId": "e995420c-0ea9-4363-d9ef-b79843af04d3"
      },
      "outputs": [
        {
          "name": "stdout",
          "output_type": "stream",
          "text": [
            "Addition: \n",
            "7\n",
            "Subtraction: \n",
            "3\n",
            "Multiplication: \n",
            "10\n",
            "Division: \n",
            "2.5\n",
            "Interger/Floor Division: \n",
            "2\n",
            "Modulus operator: \n",
            "1\n",
            "Exponentiation: \n",
            "25\n"
          ]
        }
      ],
      "source": [
        "a = 5\n",
        "\n",
        "b = 2\n",
        "\n",
        "# Arithmetic operations\n",
        "\n",
        "# # a,b : operands\n",
        "# # + : operator\n",
        "\n",
        "print(\"Addition: \")\n",
        "print(a+b)\n",
        "\n",
        "\n",
        "print(\"Subtraction: \")\n",
        "print(a-b)\n",
        "\n",
        "print(\"Multiplication: \")\n",
        "print(a*b)\n",
        "\n",
        "print(\"Division: \")\n",
        "print(a/b)\n",
        "\n",
        "print(\"Interger/Floor Division: \")\n",
        "print(a//b)\n",
        "\n",
        "print(\"Modulus operator: \")\n",
        "print(a%b)\n",
        "\n",
        "print(\"Exponentiation: \")\n",
        "print(a**b)\n",
        "\n"
      ]
    },
    {
      "cell_type": "code",
      "execution_count": null,
      "metadata": {
        "colab": {
          "base_uri": "https://localhost:8080/"
        },
        "id": "k4tOLYsFRVgl",
        "outputId": "72515e47-94c4-4bfc-b286-07eb683c02a3"
      },
      "outputs": [
        {
          "name": "stdout",
          "output_type": "stream",
          "text": [
            "True\n",
            "False\n",
            "False\n",
            "True\n",
            "True\n",
            "False\n"
          ]
        }
      ],
      "source": [
        "# Relational operators - comparing values\n",
        "\n",
        "a = 5\n",
        "\n",
        "b = 2\n",
        "\n",
        "# Whether a is greater than b?\n",
        "print(a > b)\n",
        "\n",
        "# Whether a is less than b?\n",
        "print(a < b)\n",
        "\n",
        "# Whether a is equal to b?\n",
        "print(a == b)\n",
        "\n",
        "# Whether a is not equal to b?\n",
        "print(a != b)\n",
        "\n",
        "# Whether a is greater than or equal to b?\n",
        "print(a >= b)\n",
        "\n",
        "# Whether a is less than or equal to b?\n",
        "print(a <= b)\n",
        "\n"
      ]
    },
    {
      "cell_type": "code",
      "execution_count": null,
      "metadata": {
        "colab": {
          "base_uri": "https://localhost:8080/"
        },
        "id": "YfOudbtkTVei",
        "outputId": "1f0bb495-a184-40ab-b4d8-e125b382dad7"
      },
      "outputs": [
        {
          "name": "stdout",
          "output_type": "stream",
          "text": [
            "False\n"
          ]
        }
      ],
      "source": [
        "# Logical operators\n",
        "\n",
        "# and, or, not\n",
        "\n",
        "a = 5\n",
        "b = 2\n",
        "\n",
        "# print((a !=b) and (a > b) and (a < b))\n",
        "\n",
        "# print((a == b) or (a < b) or (a <= b))\n",
        "\n",
        "# print(not (a != b))\n",
        "\n",
        "# print((a > b) and (a != b) or (a < b))\n",
        "\n",
        "print((a < b) or (a == b) and (a > b))"
      ]
    },
    {
      "cell_type": "code",
      "execution_count": null,
      "metadata": {
        "colab": {
          "base_uri": "https://localhost:8080/"
        },
        "id": "loYoiGhMXDhS",
        "outputId": "5ac87a55-c678-422e-d01f-547b779b42d6"
      },
      "outputs": [
        {
          "name": "stdout",
          "output_type": "stream",
          "text": [
            "a is greater than b\n",
            "I am inside if block\n"
          ]
        }
      ],
      "source": [
        "# Decision making\n",
        "\n",
        "# if-else construct\n",
        "\n",
        "# Syntax:\n",
        "\n",
        "# if <expression>:\n",
        "#   statement1\n",
        "#   statement2\n",
        "#   ...\n",
        "# else:\n",
        "#   statement1\n",
        "#   statement2\n",
        "#   ...\n",
        "\n",
        "\n",
        "a = 50\n",
        "b = 12\n",
        "\n",
        "if (a > b):\n",
        "  print(\"a is greater than b\")\n",
        "  print(\"I am inside if block\")\n",
        "else:\n",
        "  print(\"b is greater than a\")\n",
        "\n",
        "\n"
      ]
    },
    {
      "cell_type": "markdown",
      "metadata": {
        "id": "VFb2OOU_SXg3"
      },
      "source": [
        "22/11/2024\n",
        "\n",
        "Session Outline\n",
        "\n",
        "*   If, elif, else\n",
        "*   For Loop\n",
        "*   while loop\n",
        "\n",
        "\n",
        "\n"
      ]
    },
    {
      "cell_type": "code",
      "execution_count": null,
      "metadata": {
        "colab": {
          "base_uri": "https://localhost:8080/"
        },
        "id": "yKM8z7mdXPVR",
        "outputId": "97f7c609-40ff-4ee7-e815-1077ec45d5c5"
      },
      "outputs": [
        {
          "name": "stdout",
          "output_type": "stream",
          "text": [
            "Enter the marks: 90\n",
            "90\n",
            "<class 'int'>\n",
            "Grade B\n"
          ]
        }
      ],
      "source": [
        "#Use elif ladder to compute grade of a student.\n",
        "\n",
        "# read the marks of the student\n",
        "\n",
        "marks = int(input(\"Enter the marks: \"))# converting str type to int\n",
        "print(marks)\n",
        "print(type(marks))\n",
        "\n",
        "if marks>90:\n",
        "  print(\"Grade A\")\n",
        "elif marks>80:\n",
        "  print(\"Grade B\")\n",
        "elif marks>70:\n",
        "  print(\"Grade C\")\n",
        "elif marks>60:\n",
        "  print(\"Grade D\")\n",
        "elif marks>40:\n",
        "  print(\"Grade E\")\n",
        "else:\n",
        "  print(\"Grade F\")\n",
        "\n"
      ]
    },
    {
      "cell_type": "code",
      "execution_count": null,
      "metadata": {
        "colab": {
          "base_uri": "https://localhost:8080/"
        },
        "id": "H63M1d4maks4",
        "outputId": "88d2ccc8-34be-4add-8db7-d6cb831653d1"
      },
      "outputs": [
        {
          "name": "stdout",
          "output_type": "stream",
          "text": [
            "Enter the marks: 50\n",
            "Grade D\n"
          ]
        }
      ],
      "source": [
        "#Nested if else\n",
        "\n",
        "marks = int(input(\"Enter the marks: \"))\n",
        "\n",
        "if marks>40:\n",
        "  if marks>90:\n",
        "    print(\"Grade A\")\n",
        "  elif marks>80:\n",
        "    print(\"Grade B\")\n",
        "  elif marks>70:\n",
        "    print(\"Grade C\")\n",
        "  else:\n",
        "    print(\"Grade D\")\n",
        "else:\n",
        "  print(\"Grade F\")\n"
      ]
    },
    {
      "cell_type": "code",
      "execution_count": null,
      "metadata": {
        "colab": {
          "base_uri": "https://localhost:8080/"
        },
        "id": "yA-QKB6aeNX8",
        "outputId": "4d47012e-6a26-4a0c-c93c-ae0ca880808a"
      },
      "outputs": [
        {
          "name": "stdout",
          "output_type": "stream",
          "text": [
            "Enter the marks: -10\n",
            "Invalid marks\n",
            "Enter the marks: 55\n"
          ]
        }
      ],
      "source": [
        "marks=int(input(\"Enter the marks: \"))\n",
        "\n",
        "while (marks<0 or marks>100):\n",
        "  print(\"Invalid marks\")\n",
        "  marks=int(input(\"Enter the marks: \"))"
      ]
    },
    {
      "cell_type": "code",
      "execution_count": null,
      "metadata": {
        "colab": {
          "base_uri": "https://localhost:8080/"
        },
        "id": "GhCAnAcVbo6A",
        "outputId": "5e8b2021-65dc-4a00-dee4-fe6bca0e0066"
      },
      "outputs": [
        {
          "name": "stdout",
          "output_type": "stream",
          "text": [
            "Enter the first integer: 100\n",
            "Enter the second integer: 50\n",
            "Enter the third integer: 25\n",
            "a is the largest integer\n"
          ]
        }
      ],
      "source": [
        "# To find the largest integer among three integers\n",
        "\n",
        "a = int(input(\"Enter the first integer: \"))\n",
        "b = int(input(\"Enter the second integer: \"))\n",
        "c = int(input(\"Enter the third integer: \"))\n",
        "\n",
        "if a>b:\n",
        "  if a>c:\n",
        "    print(\"a is the largest integer\")\n",
        "  else:\n",
        "    print(\"c is the largest integer\")\n",
        "else:\n",
        "  if b>c:\n",
        "    print(\"b is the largest integer\")\n"
      ]
    },
    {
      "cell_type": "code",
      "execution_count": null,
      "metadata": {
        "id": "t5_wAX0Yc-sj"
      },
      "outputs": [],
      "source": [
        "# Read three integers and use and operator to find the largest element\n",
        "\n",
        "a = int(input(\"Enter the first integer: \"))\n",
        "b = int(input(\"Enter the second integer: \"))\n",
        "c = int(input(\"Enter the third integer: \"))\n",
        "\n",
        "if a>b and a>c:\n",
        "  print(\"a is the largest integer\")\n",
        "elif b>c:\n",
        "  print(\"b is the largest integer\")\n",
        "else:\n",
        "  print(\"c is the largest integer\")"
      ]
    },
    {
      "cell_type": "code",
      "execution_count": null,
      "metadata": {
        "colab": {
          "base_uri": "https://localhost:8080/"
        },
        "id": "OxGPNzkZdOVC",
        "outputId": "74e99aa2-06a1-4856-f27e-9d3856e88920"
      },
      "outputs": [
        {
          "name": "stdout",
          "output_type": "stream",
          "text": [
            "0\n",
            "2\n",
            "4\n",
            "6\n",
            "8\n"
          ]
        }
      ],
      "source": [
        "#while loop syntax - used to iterate a block of code based on a condition\n",
        "# while <expression>:\n",
        "#   statement1\n",
        "#   statement2\n",
        "#   ...\n",
        "\n",
        "count=0\n",
        "while count<10:\n",
        "  print(count)\n",
        "  count=count+2"
      ]
    },
    {
      "cell_type": "code",
      "execution_count": null,
      "metadata": {
        "colab": {
          "base_uri": "https://localhost:8080/"
        },
        "id": "7g_cfQk4e4kk",
        "outputId": "b53fc729-6946-40b3-cf5c-ddac90f29515"
      },
      "outputs": [
        {
          "name": "stdout",
          "output_type": "stream",
          "text": [
            "1\n",
            "3\n",
            "5\n",
            "7\n",
            "9\n"
          ]
        }
      ],
      "source": [
        "# for loop - to iterate based on counter\n",
        "# range(start,stop, step size) - from start to stop-1\n",
        "for i in range(1,10,2):\n",
        "  print(i)"
      ]
    },
    {
      "cell_type": "markdown",
      "metadata": {
        "id": "guWpbYBhW8YN"
      },
      "source": [
        "23/11/2024\n",
        "\n",
        "Session Outline\n",
        "\n",
        "\n",
        "*   for loop\n",
        "*   Lists\n",
        "*   Tuples\n",
        "*   Sets\n",
        "\n",
        "\n",
        "\n",
        "\n"
      ]
    },
    {
      "cell_type": "code",
      "execution_count": null,
      "metadata": {
        "colab": {
          "base_uri": "https://localhost:8080/"
        },
        "id": "emEOqtLgY7sK",
        "outputId": "933d6550-c972-4c45-9eca-9fa2817a1af4"
      },
      "outputs": [
        {
          "name": "stdout",
          "output_type": "stream",
          "text": [
            "1000\n",
            "950\n",
            "900\n",
            "850\n",
            "800\n",
            "750\n",
            "700\n",
            "650\n",
            "600\n",
            "550\n",
            "500\n",
            "450\n",
            "400\n",
            "350\n",
            "300\n",
            "250\n"
          ]
        }
      ],
      "source": [
        "# range(10)\n",
        "# print(range(10))\n",
        "# default stepsize is 1\n",
        "# for i in range(5,100,5):\n",
        "#   print(i)\n",
        "\n",
        "for i in range(1000,200,-50):\n",
        "  print(i)"
      ]
    },
    {
      "cell_type": "code",
      "execution_count": null,
      "metadata": {
        "colab": {
          "base_uri": "https://localhost:8080/"
        },
        "id": "et44US5QaAkW",
        "outputId": "27b1235b-f639-4ecc-9dde-023019c9bf41"
      },
      "outputs": [
        {
          "name": "stdout",
          "output_type": "stream",
          "text": [
            "10\n",
            "20\n",
            "30\n",
            "40\n",
            "50\n",
            "150\n"
          ]
        }
      ],
      "source": [
        "# syntax for for loop\n",
        "\n",
        "#for i in sequence:\n",
        "# block of code\n",
        "\n",
        "L=[10,20,30,40,50]\n",
        "sum_list=0\n",
        "for i in L:\n",
        "  print(i)\n",
        "  sum_list=sum_list+i\n",
        "print(sum_list)"
      ]
    },
    {
      "cell_type": "code",
      "execution_count": null,
      "metadata": {
        "colab": {
          "base_uri": "https://localhost:8080/"
        },
        "id": "pzwFM5sNbKD3",
        "outputId": "82e7a578-9320-4805-d9ff-339164e2b4d0"
      },
      "outputs": [
        {
          "name": "stdout",
          "output_type": "stream",
          "text": [
            "10\n",
            "20\n",
            "30\n",
            "40\n",
            "50\n"
          ]
        }
      ],
      "source": [
        "for i in range(len(L)):\n",
        "  print(L[i])"
      ]
    },
    {
      "cell_type": "code",
      "execution_count": null,
      "metadata": {
        "colab": {
          "base_uri": "https://localhost:8080/"
        },
        "id": "Tydr6g-Lb4ma",
        "outputId": "8035f91e-4206-4fb9-b9f2-c01f911a5949"
      },
      "outputs": [
        {
          "name": "stdout",
          "output_type": "stream",
          "text": [
            "P\n",
            "y\n",
            "t\n",
            "h\n",
            "o\n",
            "n\n"
          ]
        }
      ],
      "source": [
        "# iterate over strings\n",
        "word=\"Python\"\n",
        "for i in word: # considers a word as a sequence of characters\n",
        "  print(i)"
      ]
    },
    {
      "cell_type": "code",
      "execution_count": null,
      "metadata": {
        "colab": {
          "base_uri": "https://localhost:8080/"
        },
        "id": "xk2H9R9gcUey",
        "outputId": "5f4f7249-0d14-4188-9c56-27ddd2a27296"
      },
      "outputs": [
        {
          "data": {
            "text/plain": [
              "30"
            ]
          },
          "execution_count": 15,
          "metadata": {},
          "output_type": "execute_result"
        }
      ],
      "source": [
        "L[2]"
      ]
    },
    {
      "cell_type": "code",
      "execution_count": null,
      "metadata": {
        "colab": {
          "base_uri": "https://localhost:8080/"
        },
        "id": "9H-iEdd1cdMf",
        "outputId": "2f0a5eb7-a19f-4c19-91b5-c9d75795c2a2"
      },
      "outputs": [
        {
          "name": "stdout",
          "output_type": "stream",
          "text": [
            "* \n",
            "* * \n",
            "* * * \n",
            "* * * * \n",
            "* * * * * \n"
          ]
        }
      ],
      "source": [
        "# nested for loop demonstration for pattern display\n",
        "\n",
        "for i in range(1,6):\n",
        "  for j in range(i):\n",
        "    print(\"*\",end=\" \")\n",
        "  print()"
      ]
    },
    {
      "cell_type": "code",
      "execution_count": null,
      "metadata": {
        "colab": {
          "base_uri": "https://localhost:8080/"
        },
        "id": "jfBKPN1NfJg-",
        "outputId": "ee72ec5d-6f63-43ab-cc7b-4c44786d928d"
      },
      "outputs": [
        {
          "name": "stdout",
          "output_type": "stream",
          "text": [
            "0\n",
            "1\n",
            "2\n",
            "3\n",
            "4\n"
          ]
        }
      ],
      "source": [
        "for i in range(5):# stop value is 5\n",
        "  print(i)"
      ]
    },
    {
      "cell_type": "code",
      "execution_count": null,
      "metadata": {
        "colab": {
          "base_uri": "https://localhost:8080/"
        },
        "id": "YQt325jefYoE",
        "outputId": "312c4e6a-1a4c-4cb2-9b94-38c75fdc0d09"
      },
      "outputs": [
        {
          "name": "stdout",
          "output_type": "stream",
          "text": [
            "1\n",
            "2\n",
            "3\n",
            "4\n"
          ]
        }
      ],
      "source": [
        "for i in range(1,5):# start value is 1, stop value is 5\n",
        "  print(i)"
      ]
    },
    {
      "cell_type": "code",
      "execution_count": null,
      "metadata": {
        "colab": {
          "base_uri": "https://localhost:8080/"
        },
        "id": "FCY77aAcnYYR",
        "outputId": "b0e2f92a-98e1-449d-f363-8aa526b44390"
      },
      "outputs": [
        {
          "name": "stdout",
          "output_type": "stream",
          "text": [
            "1\n",
            "2\n",
            "3\n",
            "4\n",
            "6\n",
            "7\n",
            "8\n",
            "9\n",
            "Out of loop\n"
          ]
        }
      ],
      "source": [
        "# Break and Continue in loop - Jump out of the loop based on a condition\n",
        "\n",
        "for i in range(1,10):\n",
        "  if i==5:\n",
        "    continue # skip the current iteration of the loop\n",
        "  print(i)\n",
        "print(\"Out of loop\")"
      ]
    },
    {
      "cell_type": "code",
      "execution_count": null,
      "metadata": {
        "colab": {
          "base_uri": "https://localhost:8080/"
        },
        "id": "nRbGNQ5znckt",
        "outputId": "e60184d6-1631-460e-f0e6-4fb196b5c1be"
      },
      "outputs": [
        {
          "name": "stdout",
          "output_type": "stream",
          "text": [
            "1\n",
            "1\n",
            "2\n",
            "2\n",
            "4\n",
            "4\n",
            "3\n",
            "9\n",
            "6\n",
            "4\n",
            "16\n",
            "8\n",
            "6\n",
            "36\n",
            "12\n",
            "7\n",
            "49\n",
            "14\n",
            "8\n",
            "64\n",
            "16\n",
            "9\n",
            "81\n",
            "18\n",
            "Out of loop\n"
          ]
        }
      ],
      "source": [
        "# Continue statement is used to skip the rest of the statements in the specific iteration\n",
        "\n",
        "for i in range(1,10):\n",
        "  if i==5:\n",
        "    continue # skip the current iteration of the loop\n",
        "  print(i)\n",
        "  print(i*i)\n",
        "  print(i*2)\n",
        "print(\"Out of loop\")"
      ]
    },
    {
      "cell_type": "code",
      "execution_count": null,
      "metadata": {
        "colab": {
          "base_uri": "https://localhost:8080/"
        },
        "id": "pg7iVZxqngUo",
        "outputId": "f9cc912c-4f37-4fe2-d6d6-00634c9a2de1"
      },
      "outputs": [
        {
          "name": "stdout",
          "output_type": "stream",
          "text": [
            "[1, 4, 9, 16, 25, 36, 49, 64, 81, 100, 121, 144, 169, 196, 225, 256, 289, 324, 361, 400, 441, 484, 529, 576, 625, 676, 729, 784, 841, 900, 961, 1024, 1089, 1156, 1225, 1296, 1369, 1444, 1521, 1600, 1681, 1764, 1849, 1936, 2025, 2116, 2209, 2304, 2401, 2500, 2601, 2704, 2809, 2916, 3025, 3136, 3249, 3364, 3481, 3600, 3721, 3844, 3969, 4096, 4225, 4356, 4489, 4624, 4761, 4900, 5041, 5184, 5329, 5476, 5625, 5776, 5929, 6084, 6241, 6400, 6561, 6724, 6889, 7056, 7225, 7396, 7569, 7744, 7921, 8100, 8281, 8464, 8649, 8836, 9025, 9216, 9409, 9604, 9801, 10000]\n"
          ]
        }
      ],
      "source": [
        "# List Comprehension\n",
        "\n",
        "# L=[i for i in range(1,101)]\n",
        "# print(L)\n",
        "\n",
        "L=[i*i for i in range(1,101)]\n",
        "print(L)"
      ]
    },
    {
      "cell_type": "code",
      "execution_count": null,
      "metadata": {
        "colab": {
          "base_uri": "https://localhost:8080/"
        },
        "id": "vw-AQgvCnjiW",
        "outputId": "58be8e5f-17aa-43cd-f8b8-5d8b7360b9ac"
      },
      "outputs": [
        {
          "name": "stdout",
          "output_type": "stream",
          "text": [
            "Enter your age: 10.5\n",
            "10\n"
          ]
        }
      ],
      "source": [
        "# while loop - infinite\n",
        "\n",
        "while True:\n",
        "  age=int(float(input(\"Enter your age: \")))\n",
        "  print(age)\n",
        "  if age>0:\n",
        "    break\n",
        "\n"
      ]
    },
    {
      "cell_type": "code",
      "execution_count": null,
      "metadata": {
        "colab": {
          "base_uri": "https://localhost:8080/"
        },
        "id": "s8c9UDCbnofx",
        "outputId": "b5389533-69ec-4509-b023-f8e280496c54"
      },
      "outputs": [
        {
          "name": "stdout",
          "output_type": "stream",
          "text": [
            "10\n"
          ]
        }
      ],
      "source": [
        "print(int(float(\"10.5\")))"
      ]
    },
    {
      "cell_type": "code",
      "execution_count": null,
      "metadata": {
        "colab": {
          "base_uri": "https://localhost:8080/"
        },
        "id": "9jFXeLVMnq3M",
        "outputId": "aa04e32b-975b-42c8-f535-20a539d267f7"
      },
      "outputs": [
        {
          "name": "stdout",
          "output_type": "stream",
          "text": [
            "1\n",
            "2\n",
            "3\n",
            "4\n",
            "5\n",
            "6\n",
            "7\n"
          ]
        }
      ],
      "source": [
        "# for else demonstration - else block is executed only if the loop is executed for all iterations successfully\n",
        "\n",
        "for i in range(1,10):\n",
        "  if i==8:\n",
        "    break\n",
        "  print(i)\n",
        "else:\n",
        "  print(\"Loop completed\")"
      ]
    },
    {
      "cell_type": "code",
      "execution_count": null,
      "metadata": {
        "colab": {
          "base_uri": "https://localhost:8080/"
        },
        "id": "8ZS8ucb4ntuc",
        "outputId": "839e57b8-5bfc-463f-a616-586d49daa434"
      },
      "outputs": [
        {
          "name": "stdout",
          "output_type": "stream",
          "text": [
            "0\n",
            "1\n",
            "2\n"
          ]
        }
      ],
      "source": [
        "# Example to demonstrate while else\n",
        "\n",
        "count=0\n",
        "while count<5:\n",
        "  print(count)\n",
        "  count=count+1\n",
        "  if count==3:\n",
        "    break\n",
        "else:\n",
        "  print(\"Loop completed\")"
      ]
    },
    {
      "cell_type": "code",
      "execution_count": null,
      "metadata": {
        "colab": {
          "base_uri": "https://localhost:8080/"
        },
        "id": "5kvxHyFSnzpl",
        "outputId": "85a97a59-1d37-4b85-ddd9-e48bbf68a804"
      },
      "outputs": [
        {
          "name": "stdout",
          "output_type": "stream",
          "text": [
            "[1, 2, 3, 'Anu', 10, True, 'Y']\n",
            "<class 'list'>\n"
          ]
        }
      ],
      "source": [
        "# List - collection of any data type\n",
        "\n",
        "L=[1,2,3,\"Anu\", 10, True,'Y']\n",
        "print(L)\n",
        "\n",
        "print(type(L))"
      ]
    },
    {
      "cell_type": "markdown",
      "metadata": {
        "id": "sUoIY8dyUltR"
      },
      "source": []
    },
    {
      "cell_type": "code",
      "execution_count": null,
      "metadata": {
        "colab": {
          "base_uri": "https://localhost:8080/"
        },
        "id": "_pxjbPnwn3RW",
        "outputId": "6338bc65-1143-4456-9e72-ab3ca90ff905"
      },
      "outputs": [
        {
          "data": {
            "text/plain": [
              "[4, 5, 6]"
            ]
          },
          "execution_count": 10,
          "metadata": {},
          "output_type": "execute_result"
        }
      ],
      "source": [
        "#slicing in list\n",
        "\n",
        "num=[1,2,3,4,5,6,7]\n",
        "\n",
        "num[5]\n",
        "\n",
        "num[1:4]\n",
        "num[2:5]\n",
        "num[3:6]\n",
        "#starts with num[3] and goes up to num[5]\n",
        "\n"
      ]
    },
    {
      "cell_type": "code",
      "execution_count": null,
      "metadata": {
        "colab": {
          "base_uri": "https://localhost:8080/",
          "height": 36
        },
        "id": "6aDRYF-5n6Xg",
        "outputId": "22192b95-af0f-4107-eb40-dd2678b1960b"
      },
      "outputs": [
        {
          "data": {
            "application/vnd.google.colaboratory.intrinsic+json": {
              "type": "string"
            },
            "text/plain": [
              "'Anu'"
            ]
          },
          "execution_count": 11,
          "metadata": {},
          "output_type": "execute_result"
        }
      ],
      "source": [
        "#Negative indexing - indexing starts at the right end\n",
        "\n",
        "L[-4]"
      ]
    },
    {
      "cell_type": "code",
      "execution_count": null,
      "metadata": {
        "colab": {
          "base_uri": "https://localhost:8080/"
        },
        "id": "N7nVRhESn9EQ",
        "outputId": "db89c19e-c7f0-41d1-884f-108405b0b925"
      },
      "outputs": [
        {
          "name": "stdout",
          "output_type": "stream",
          "text": [
            "[1, 2, 3, 4, 5, 6, 7, 8]\n"
          ]
        }
      ],
      "source": [
        "A=[1,2,3,4]\n",
        "B=[5,6,7,8]\n",
        "\n",
        "C= A +B\n",
        "print(C)"
      ]
    },
    {
      "cell_type": "code",
      "execution_count": null,
      "metadata": {
        "colab": {
          "base_uri": "https://localhost:8080/"
        },
        "id": "KSnnQjcVn_5e",
        "outputId": "d6c5a339-4b1a-45ed-b082-e09eb5bd636e"
      },
      "outputs": [
        {
          "name": "stdout",
          "output_type": "stream",
          "text": [
            "[1, 2, 3, 4, 55, 5, 6, 7, 8]\n"
          ]
        }
      ],
      "source": [
        "# C.append(99)\n",
        "# print(C)\n",
        "C.insert(4,55)\n",
        "print(C)"
      ]
    },
    {
      "cell_type": "code",
      "execution_count": null,
      "metadata": {
        "colab": {
          "base_uri": "https://localhost:8080/"
        },
        "id": "wvH53afloCSt",
        "outputId": "169ea488-817a-4a31-fc62-529f717b57e0"
      },
      "outputs": [
        {
          "name": "stdout",
          "output_type": "stream",
          "text": [
            "[1, 2, 'new', 3, 4, 55, 5, 6, 7, 8]\n"
          ]
        }
      ],
      "source": [
        "# C.append(100)\n",
        "C.insert(2,\"new\")\n",
        "print(C)"
      ]
    },
    {
      "cell_type": "code",
      "execution_count": null,
      "metadata": {
        "colab": {
          "base_uri": "https://localhost:8080/"
        },
        "id": "khe26HxcoFsC",
        "outputId": "e21f363c-cfa7-47b5-a2ac-c86358edad67"
      },
      "outputs": [
        {
          "name": "stdout",
          "output_type": "stream",
          "text": [
            "[1, 2, 'new', 3, 4, 55, 5, 6, 7]\n"
          ]
        }
      ],
      "source": [
        "#Delete an element\n",
        "# pop removes the last element of the list and returns it\n",
        "C.pop()\n",
        "print(C)"
      ]
    },
    {
      "cell_type": "code",
      "execution_count": null,
      "metadata": {
        "id": "cEo2VxHboLYv"
      },
      "outputs": [],
      "source": [
        "print(C.pop(2), \"is popped\")\n",
        "print(C)"
      ]
    },
    {
      "cell_type": "code",
      "execution_count": null,
      "metadata": {
        "id": "2K5yI-pGoNqO"
      },
      "outputs": [],
      "source": [
        "C.remove(55)\n",
        "print(C)"
      ]
    },
    {
      "cell_type": "code",
      "execution_count": null,
      "metadata": {
        "id": "fOvuiYm3oPju"
      },
      "outputs": [],
      "source": [
        "# To find the length of a list or number of elements in a list\n",
        "# print(len(C))\n",
        "\n",
        "# C.sort()\n",
        "# print(C)\n",
        "# C.append(\"abc\")\n",
        "C.reverse()\n",
        "print(C)"
      ]
    },
    {
      "cell_type": "code",
      "execution_count": null,
      "metadata": {
        "colab": {
          "background_save": true
        },
        "id": "IPbF75p3oRS7",
        "outputId": "59c839c3-d764-44c2-9e18-59d441b154f5"
      },
      "outputs": [
        {
          "name": "stdout",
          "output_type": "stream",
          "text": [
            "[1, 2, 3, [4, 5, 6]]\n",
            "4\n",
            "5\n"
          ]
        }
      ],
      "source": [
        "#append vs extend\n",
        "\n",
        "L1=[1,2,3]\n",
        "L2=[4,5,6]\n",
        "L1.append(L2)\n",
        "print(L1)\n",
        "print(len(L1))\n",
        "\n",
        "print(L1[3][1])\n",
        "\n"
      ]
    },
    {
      "cell_type": "code",
      "execution_count": null,
      "metadata": {
        "colab": {
          "background_save": true
        },
        "id": "9EDhS6XPoTKK",
        "outputId": "a69667da-3d45-4760-cc7f-983b3653d72c"
      },
      "outputs": [
        {
          "name": "stdout",
          "output_type": "stream",
          "text": [
            "[1, 2, 3, 4, 5, 6]\n",
            "6\n",
            "[4, 5, 6]\n"
          ]
        }
      ],
      "source": [
        "# demonstrate extend function\n",
        "\n",
        "L1=[1,2,3]\n",
        "L2=[4,5,6]\n",
        "L1.extend(L2)\n",
        "print(L1)\n",
        "print(len(L1))\n",
        "print(L2)"
      ]
    },
    {
      "cell_type": "code",
      "execution_count": null,
      "metadata": {
        "colab": {
          "background_save": true
        },
        "id": "tzzUcc6joU8X",
        "outputId": "06d9d12a-18aa-4b8f-ced4-692bedb0f02f"
      },
      "outputs": [
        {
          "name": "stdout",
          "output_type": "stream",
          "text": [
            "[1, 2, 3, 4, 5, 6]\n",
            "[1, 2, 3, 4, 5, 6, 7, 8, 9]\n"
          ]
        }
      ],
      "source": [
        "L1=[1,2,3]\n",
        "L2=[4,5,6]\n",
        "L3=[7,8,9]\n",
        "\n",
        "L1.extend(L2)\n",
        "print(L1)\n",
        "L1.extend(L3)\n",
        "print(L1)\n"
      ]
    },
    {
      "cell_type": "markdown",
      "source": [
        "25/11/2024\n",
        "\n",
        "Session Outline:\n",
        "\n",
        "\n",
        "*   Sets\n",
        "*   Tuples\n",
        "*   Dictionary\n",
        "\n",
        "\n",
        "\n"
      ],
      "metadata": {
        "id": "cv8yrpW-stTm"
      }
    },
    {
      "cell_type": "code",
      "source": [
        "# Tuples are ordered and immutable\n",
        "# Sets are unordered and mutable, unique elements\n",
        "# Dictionary is a collection - unordered, key-value pairs, unique keys and values where duplicated are allowed\n",
        "\n",
        "\n",
        "\n"
      ],
      "metadata": {
        "id": "Hxzae_EwwUji"
      },
      "execution_count": null,
      "outputs": []
    },
    {
      "cell_type": "code",
      "source": [
        "# Tuples\n",
        "\n",
        "T=(1,2,3,4,5)\n",
        "print(type(T))"
      ],
      "metadata": {
        "colab": {
          "base_uri": "https://localhost:8080/"
        },
        "id": "YFX2_ApByg9Z",
        "outputId": "df820834-ba0d-4e1c-e820-717028dd1000"
      },
      "execution_count": null,
      "outputs": [
        {
          "output_type": "stream",
          "name": "stdout",
          "text": [
            "<class 'tuple'>\n"
          ]
        }
      ]
    },
    {
      "cell_type": "code",
      "source": [
        "# T[1] #indexing - Access elements in a tuple by it's index\n",
        "# Negative indexing\n",
        "T[-1]"
      ],
      "metadata": {
        "colab": {
          "base_uri": "https://localhost:8080/"
        },
        "id": "G73rBpB_zygE",
        "outputId": "872c0b0d-c7be-4187-f74f-51f71279b8c9"
      },
      "execution_count": null,
      "outputs": [
        {
          "output_type": "execute_result",
          "data": {
            "text/plain": [
              "5"
            ]
          },
          "metadata": {},
          "execution_count": 3
        }
      ]
    },
    {
      "cell_type": "code",
      "source": [
        "# Slicing\n",
        "print(T[1:4])"
      ],
      "metadata": {
        "colab": {
          "base_uri": "https://localhost:8080/"
        },
        "id": "kSSg7-en0Hnj",
        "outputId": "17fbc6a9-6bd0-43d7-e04e-faf9c113c581"
      },
      "execution_count": null,
      "outputs": [
        {
          "output_type": "stream",
          "name": "stdout",
          "text": [
            "(2, 3, 4)\n"
          ]
        }
      ]
    },
    {
      "cell_type": "code",
      "source": [
        "# Tuples are immutable - once defined their value cannot be changed\n",
        "T[1]=10"
      ],
      "metadata": {
        "colab": {
          "base_uri": "https://localhost:8080/",
          "height": 144
        },
        "id": "_53i2VB_0Wzz",
        "outputId": "223e21d2-e447-42b9-a599-a98732b33f3b"
      },
      "execution_count": null,
      "outputs": [
        {
          "output_type": "error",
          "ename": "TypeError",
          "evalue": "'tuple' object does not support item assignment",
          "traceback": [
            "\u001b[0;31m---------------------------------------------------------------------------\u001b[0m",
            "\u001b[0;31mTypeError\u001b[0m                                 Traceback (most recent call last)",
            "\u001b[0;32m<ipython-input-6-c44fd1b8e447>\u001b[0m in \u001b[0;36m<cell line: 1>\u001b[0;34m()\u001b[0m\n\u001b[0;32m----> 1\u001b[0;31m \u001b[0mT\u001b[0m\u001b[0;34m[\u001b[0m\u001b[0;36m1\u001b[0m\u001b[0;34m]\u001b[0m\u001b[0;34m=\u001b[0m\u001b[0;36m10\u001b[0m\u001b[0;34m\u001b[0m\u001b[0;34m\u001b[0m\u001b[0m\n\u001b[0m",
            "\u001b[0;31mTypeError\u001b[0m: 'tuple' object does not support item assignment"
          ]
        }
      ]
    },
    {
      "cell_type": "code",
      "source": [
        "# Tuple Operations\n",
        "\n",
        "# Concatenation\n",
        "t1=(1,2,3,4)\n",
        "t2=(6,7,8,9)\n",
        "t3=t1+t2\n",
        "print(t3)\n"
      ],
      "metadata": {
        "colab": {
          "base_uri": "https://localhost:8080/"
        },
        "id": "VHbKqoYW0pCf",
        "outputId": "8a24b691-eaed-4b18-ce68-7fa40160cc28"
      },
      "execution_count": null,
      "outputs": [
        {
          "output_type": "stream",
          "name": "stdout",
          "text": [
            "(1, 2, 3, 4, 6, 7, 8, 9)\n"
          ]
        }
      ]
    },
    {
      "cell_type": "code",
      "source": [
        "# Repetition\n",
        "\n",
        "t4=t2 *3\n",
        "print(t4)"
      ],
      "metadata": {
        "colab": {
          "base_uri": "https://localhost:8080/"
        },
        "id": "FkxxDMke1FdA",
        "outputId": "d2dfc3bf-0ed4-4616-82e8-374f905b8e33"
      },
      "execution_count": null,
      "outputs": [
        {
          "output_type": "stream",
          "name": "stdout",
          "text": [
            "(6, 7, 8, 9, 6, 7, 8, 9, 6, 7, 8, 9)\n"
          ]
        }
      ]
    },
    {
      "cell_type": "code",
      "source": [
        "# Membership\n",
        "print(6 in t4)"
      ],
      "metadata": {
        "colab": {
          "base_uri": "https://localhost:8080/"
        },
        "id": "67dYdNPf1T9T",
        "outputId": "71dc6dfb-a276-4de2-d2bd-d2f09dc1df91"
      },
      "execution_count": null,
      "outputs": [
        {
          "output_type": "stream",
          "name": "stdout",
          "text": [
            "True\n"
          ]
        }
      ]
    },
    {
      "cell_type": "code",
      "source": [
        "# Count - gives the number of occurences of the given element in the tuple\n",
        "\n",
        "print(t4.count(9))"
      ],
      "metadata": {
        "colab": {
          "base_uri": "https://localhost:8080/"
        },
        "id": "WXQ17S1q1pLJ",
        "outputId": "dc043145-5b32-4573-90a2-9bc5bbccc1d5"
      },
      "execution_count": null,
      "outputs": [
        {
          "output_type": "stream",
          "name": "stdout",
          "text": [
            "3\n"
          ]
        }
      ]
    },
    {
      "cell_type": "code",
      "source": [
        "# index - returns the index of the first occurence of the given element\n",
        "print(t4.index(9))"
      ],
      "metadata": {
        "colab": {
          "base_uri": "https://localhost:8080/"
        },
        "id": "ZdaQhq1n2GV3",
        "outputId": "04f2ee4e-991e-4560-b86b-9ccba435ac59"
      },
      "execution_count": null,
      "outputs": [
        {
          "output_type": "stream",
          "name": "stdout",
          "text": [
            "3\n"
          ]
        }
      ]
    },
    {
      "cell_type": "code",
      "source": [
        "# Nested tuple\n",
        "\n",
        "t5=t1,t2\n",
        "print(t5)"
      ],
      "metadata": {
        "colab": {
          "base_uri": "https://localhost:8080/"
        },
        "id": "_vrE7OAY161q",
        "outputId": "bccea6a7-7bc5-45ca-98c0-9dbe1eeec0c1"
      },
      "execution_count": null,
      "outputs": [
        {
          "output_type": "stream",
          "name": "stdout",
          "text": [
            "((1, 2, 3, 4), (6, 7, 8, 9))\n"
          ]
        }
      ]
    },
    {
      "cell_type": "code",
      "source": [
        "# Nesting list within a tuple\n",
        "L=[11,22,33]\n",
        "t5=(t1,L)\n",
        "print(t5)"
      ],
      "metadata": {
        "colab": {
          "base_uri": "https://localhost:8080/"
        },
        "id": "0pK-LJBm3T3Q",
        "outputId": "45521dbe-79f2-4c7f-cc4c-195dbcf3749c"
      },
      "execution_count": null,
      "outputs": [
        {
          "output_type": "stream",
          "name": "stdout",
          "text": [
            "((1, 2, 3, 4), [11, 22, 33])\n"
          ]
        }
      ]
    },
    {
      "cell_type": "code",
      "source": [
        "print(t5[0][1])"
      ],
      "metadata": {
        "colab": {
          "base_uri": "https://localhost:8080/"
        },
        "id": "qnyV_1WJ3GRF",
        "outputId": "399c7b8a-c7e7-46b9-b637-f1535c210505"
      },
      "execution_count": null,
      "outputs": [
        {
          "output_type": "stream",
          "name": "stdout",
          "text": [
            "2\n"
          ]
        }
      ]
    },
    {
      "cell_type": "code",
      "source": [
        "#Sets - unordered collection of unique elements\n",
        "\n",
        "s={1,2,3,4,5}\n",
        "print(type(s))"
      ],
      "metadata": {
        "colab": {
          "base_uri": "https://localhost:8080/"
        },
        "id": "rSswxe3S3-ZN",
        "outputId": "03466ede-c419-49a9-d669-a33208cbe27f"
      },
      "execution_count": null,
      "outputs": [
        {
          "output_type": "stream",
          "name": "stdout",
          "text": [
            "<class 'set'>\n"
          ]
        }
      ]
    },
    {
      "cell_type": "code",
      "source": [
        "# Set can have only unique element - duplicates not allowed\n",
        "s1={1,2,3,3,3}\n",
        "print(s1)"
      ],
      "metadata": {
        "colab": {
          "base_uri": "https://localhost:8080/"
        },
        "id": "trdhHJuy4ODc",
        "outputId": "63dd4054-8ffb-485b-b2ce-817242dca7d8"
      },
      "execution_count": null,
      "outputs": [
        {
          "output_type": "stream",
          "name": "stdout",
          "text": [
            "{1, 2, 3}\n"
          ]
        }
      ]
    },
    {
      "cell_type": "code",
      "source": [
        "L1=[1,2,3,4,5,5,5,6,6,7,7,8]\n",
        "s2=set(L1)\n",
        "print(s2)\n"
      ],
      "metadata": {
        "colab": {
          "base_uri": "https://localhost:8080/"
        },
        "id": "49X3uKDU4c_x",
        "outputId": "3c1373cc-9b1b-47df-f30c-9d92628389ea"
      },
      "execution_count": null,
      "outputs": [
        {
          "output_type": "stream",
          "name": "stdout",
          "text": [
            "{1, 2, 3, 4, 5, 6, 7, 8}\n"
          ]
        }
      ]
    },
    {
      "cell_type": "code",
      "source": [
        "for i in s2:\n",
        "  print(i)"
      ],
      "metadata": {
        "colab": {
          "base_uri": "https://localhost:8080/"
        },
        "id": "IsplDr5L4xkP",
        "outputId": "9e89f24a-f39e-409c-b98d-919cbc4fedcc"
      },
      "execution_count": null,
      "outputs": [
        {
          "output_type": "stream",
          "name": "stdout",
          "text": [
            "1\n",
            "2\n",
            "3\n",
            "4\n",
            "5\n",
            "6\n",
            "7\n",
            "8\n"
          ]
        }
      ]
    },
    {
      "cell_type": "code",
      "source": [
        "# Union, Intersection and difference\n",
        "\n",
        "s3={1,2,3,4,5}\n",
        "s4={4,5,6,7,8}\n",
        "\n",
        "# print(s3.union(s4))\n",
        "# print(s3|s4)\n",
        "# print(s3.intersection(s4))\n",
        "# print(s3&s4)\n",
        "print(s3.difference(s4))\n",
        "print(s3-s4)\n"
      ],
      "metadata": {
        "colab": {
          "base_uri": "https://localhost:8080/"
        },
        "id": "yqdR6C9C46eT",
        "outputId": "d1bf6f70-b6f0-4661-9248-821becc29d22"
      },
      "execution_count": null,
      "outputs": [
        {
          "output_type": "stream",
          "name": "stdout",
          "text": [
            "{1, 2, 3}\n",
            "{1, 2, 3}\n"
          ]
        }
      ]
    },
    {
      "cell_type": "code",
      "source": [
        "# To add a new element\n",
        "s3.add(10)\n",
        "print(s3)"
      ],
      "metadata": {
        "colab": {
          "base_uri": "https://localhost:8080/"
        },
        "id": "ISHUBNel6SU2",
        "outputId": "a288c7e3-af8e-47be-ae35-9b41a51ec26c"
      },
      "execution_count": null,
      "outputs": [
        {
          "output_type": "stream",
          "name": "stdout",
          "text": [
            "{1, 2, 3, 4, 5, 10}\n"
          ]
        }
      ]
    },
    {
      "cell_type": "code",
      "source": [
        "#To remove an element from the set\n",
        "\n",
        "s3.remove(5)\n",
        "print(s3)"
      ],
      "metadata": {
        "colab": {
          "base_uri": "https://localhost:8080/"
        },
        "id": "WQwb3Azj6fFD",
        "outputId": "989b447c-11ea-490b-8802-ab6d15095a5a"
      },
      "execution_count": null,
      "outputs": [
        {
          "output_type": "stream",
          "name": "stdout",
          "text": [
            "{1, 2, 3, 4, 10}\n"
          ]
        }
      ]
    },
    {
      "cell_type": "code",
      "source": [
        "print(10 in s3)"
      ],
      "metadata": {
        "colab": {
          "base_uri": "https://localhost:8080/"
        },
        "id": "luT4RM4_6qXb",
        "outputId": "46bb7623-50c3-4e05-d13a-2c57c7ddea4b"
      },
      "execution_count": null,
      "outputs": [
        {
          "output_type": "stream",
          "name": "stdout",
          "text": [
            "True\n"
          ]
        }
      ]
    },
    {
      "cell_type": "code",
      "source": [
        "# Dictionary - unordered collection of key-value pairs, key should be unique and values can hold duplicates\n",
        "\n",
        "d1={'name': 'Meenakshi',\n",
        "    'age':30,\n",
        "    }\n",
        "print(type(d1))"
      ],
      "metadata": {
        "colab": {
          "base_uri": "https://localhost:8080/"
        },
        "id": "gRc17jOU7jaT",
        "outputId": "503dd836-7c3c-4e29-8a30-3d83143ee87e"
      },
      "execution_count": null,
      "outputs": [
        {
          "output_type": "stream",
          "name": "stdout",
          "text": [
            "<class 'dict'>\n"
          ]
        }
      ]
    },
    {
      "cell_type": "code",
      "source": [
        "# Access an element in a dictionary - Indexed by their key\n",
        "\n",
        "print(d1['name'])"
      ],
      "metadata": {
        "colab": {
          "base_uri": "https://localhost:8080/"
        },
        "id": "nrBbmS098CXq",
        "outputId": "f2bdce99-2f2c-494d-8041-575df677e441"
      },
      "execution_count": null,
      "outputs": [
        {
          "output_type": "stream",
          "name": "stdout",
          "text": [
            "Meenakshi\n"
          ]
        }
      ]
    },
    {
      "cell_type": "code",
      "source": [
        "d1['age']=31\n",
        "print(d1)"
      ],
      "metadata": {
        "colab": {
          "base_uri": "https://localhost:8080/"
        },
        "id": "LmC3F8j_8T5n",
        "outputId": "135d3cfe-a870-4172-9cd2-fb5c6ff3627c"
      },
      "execution_count": null,
      "outputs": [
        {
          "output_type": "stream",
          "name": "stdout",
          "text": [
            "{'name': 'Meenakshi', 'age': 31}\n"
          ]
        }
      ]
    },
    {
      "cell_type": "code",
      "source": [
        "# Add a key-value pair to the existing dictionary\n",
        "\n",
        "d1[\"designation\"] = 'Teacher'\n",
        "print(d1)"
      ],
      "metadata": {
        "colab": {
          "base_uri": "https://localhost:8080/"
        },
        "id": "6UCwiJsM8eiX",
        "outputId": "913f8fd3-473b-4369-f205-9586cd2cdabd"
      },
      "execution_count": null,
      "outputs": [
        {
          "output_type": "stream",
          "name": "stdout",
          "text": [
            "{'name': 'Meenakshi', 'age': 31, 'designation': 'Teacher'}\n"
          ]
        }
      ]
    },
    {
      "cell_type": "code",
      "source": [
        "d1['name'] = 'Anu'\n",
        "print(d1)"
      ],
      "metadata": {
        "colab": {
          "base_uri": "https://localhost:8080/"
        },
        "id": "T67tEE-J80Z1",
        "outputId": "befbd254-dc7a-4a41-b28d-3b4d2b58fd2c"
      },
      "execution_count": null,
      "outputs": [
        {
          "output_type": "stream",
          "name": "stdout",
          "text": [
            "{'name': 'Anu', 'age': 31, 'designation': 'Teacher'}\n"
          ]
        }
      ]
    },
    {
      "cell_type": "code",
      "source": [
        "#delete a key-value pair\n",
        "\n",
        "del d1['age']\n",
        "print(d1)"
      ],
      "metadata": {
        "colab": {
          "base_uri": "https://localhost:8080/"
        },
        "id": "dT1aXpFP89G0",
        "outputId": "31560a08-ffb1-42b6-b279-a725c87b844f"
      },
      "execution_count": null,
      "outputs": [
        {
          "output_type": "stream",
          "name": "stdout",
          "text": [
            "{'name': 'Anu', 'designation': 'Teacher'}\n"
          ]
        }
      ]
    },
    {
      "cell_type": "code",
      "source": [
        "d1[\"age\"]=43\n",
        "print(d1)"
      ],
      "metadata": {
        "colab": {
          "base_uri": "https://localhost:8080/"
        },
        "id": "2KrfTzN79KZ6",
        "outputId": "e6c839f2-1897-4dbe-c30a-c703aa0bdcc5"
      },
      "execution_count": null,
      "outputs": [
        {
          "output_type": "stream",
          "name": "stdout",
          "text": [
            "{'name': 'Anu', 'designation': 'Teacher', 'age': 43}\n"
          ]
        }
      ]
    },
    {
      "cell_type": "code",
      "source": [
        "print(d1.keys())"
      ],
      "metadata": {
        "colab": {
          "base_uri": "https://localhost:8080/"
        },
        "id": "BtMbnRwZ9YtA",
        "outputId": "ffcae33e-307a-408b-a2e1-22bab2bdcc74"
      },
      "execution_count": null,
      "outputs": [
        {
          "output_type": "stream",
          "name": "stdout",
          "text": [
            "dict_keys(['name', 'designation', 'age'])\n"
          ]
        }
      ]
    },
    {
      "cell_type": "code",
      "source": [
        "print(list(d1.values()))"
      ],
      "metadata": {
        "colab": {
          "base_uri": "https://localhost:8080/"
        },
        "id": "Ng6h9k2_9hpa",
        "outputId": "ad838dc8-73ec-484d-f36d-730a53f95a94"
      },
      "execution_count": null,
      "outputs": [
        {
          "output_type": "stream",
          "name": "stdout",
          "text": [
            "['Anu', 'Teacher', 43]\n"
          ]
        }
      ]
    },
    {
      "cell_type": "code",
      "source": [
        "print(d1.items())"
      ],
      "metadata": {
        "colab": {
          "base_uri": "https://localhost:8080/"
        },
        "id": "KP6A1dio9nsm",
        "outputId": "94b4edb4-9020-4176-c31c-648365c2c935"
      },
      "execution_count": null,
      "outputs": [
        {
          "output_type": "stream",
          "name": "stdout",
          "text": [
            "dict_items([('name', 'Anu'), ('designation', 'Teacher'), ('age', 43)])\n"
          ]
        }
      ]
    },
    {
      "cell_type": "code",
      "source": [
        "for key,value in d1.items():\n",
        "  print(key,value)"
      ],
      "metadata": {
        "colab": {
          "base_uri": "https://localhost:8080/"
        },
        "id": "wACNkNmP9tD_",
        "outputId": "86de90f9-9007-4e6a-84ee-7c572fccec7f"
      },
      "execution_count": null,
      "outputs": [
        {
          "output_type": "stream",
          "name": "stdout",
          "text": [
            "name Anu\n",
            "designation Teacher\n",
            "age 43\n"
          ]
        }
      ]
    },
    {
      "cell_type": "code",
      "source": [
        "d1.get(\"name\")"
      ],
      "metadata": {
        "colab": {
          "base_uri": "https://localhost:8080/",
          "height": 36
        },
        "id": "Uj7-rt3N-OtC",
        "outputId": "61b8172f-0b6c-4f3d-8096-8f18ce6ae667"
      },
      "execution_count": null,
      "outputs": [
        {
          "output_type": "execute_result",
          "data": {
            "text/plain": [
              "'Anu'"
            ],
            "application/vnd.google.colaboratory.intrinsic+json": {
              "type": "string"
            }
          },
          "metadata": {},
          "execution_count": 52
        }
      ]
    },
    {
      "cell_type": "code",
      "source": [
        "d1.pop(\"name\")\n",
        "print(d1)"
      ],
      "metadata": {
        "colab": {
          "base_uri": "https://localhost:8080/"
        },
        "id": "94jMbewh-UOX",
        "outputId": "776ace14-2c7f-45c3-8d96-c87292291fa7"
      },
      "execution_count": null,
      "outputs": [
        {
          "output_type": "stream",
          "name": "stdout",
          "text": [
            "{'designation': 'Teacher'}\n"
          ]
        }
      ]
    },
    {
      "cell_type": "code",
      "source": [],
      "metadata": {
        "id": "7ZsHfEgD_Ita"
      },
      "execution_count": null,
      "outputs": []
    },
    {
      "cell_type": "code",
      "source": [
        "d2={'a':1, 'b':2, 'c':3}\n",
        "d2.popitem()\n",
        "print(d2)"
      ],
      "metadata": {
        "colab": {
          "base_uri": "https://localhost:8080/"
        },
        "id": "ah2iO8ot-jXT",
        "outputId": "769caee4-cc6d-4efa-f067-c9b32823b5fb"
      },
      "execution_count": null,
      "outputs": [
        {
          "output_type": "stream",
          "name": "stdout",
          "text": [
            "{'a': 1, 'b': 2}\n"
          ]
        }
      ]
    },
    {
      "cell_type": "code",
      "source": [
        "# Dictionary Comprehension\n",
        "\n",
        "d={i:i*i for i in range(1,11)}\n",
        "print(d)"
      ],
      "metadata": {
        "colab": {
          "base_uri": "https://localhost:8080/"
        },
        "id": "bpemKk6N-4-T",
        "outputId": "6bf32db7-f90d-4b75-ffec-16fd82eaebdb"
      },
      "execution_count": null,
      "outputs": [
        {
          "output_type": "stream",
          "name": "stdout",
          "text": [
            "{1: 1, 2: 4, 3: 9, 4: 16, 5: 25, 6: 36, 7: 49, 8: 64, 9: 81, 10: 100}\n"
          ]
        }
      ]
    },
    {
      "cell_type": "code",
      "source": [
        "#Dictionary example for number:alphabet\n",
        "\n",
        "d={i:chr(i) for i in range(65,91)}\n",
        "print(d)"
      ],
      "metadata": {
        "colab": {
          "base_uri": "https://localhost:8080/"
        },
        "id": "raPF1Yj6A0ES",
        "outputId": "9c5da535-b5b7-4a62-fee1-a22d6ace0c1a"
      },
      "execution_count": null,
      "outputs": [
        {
          "output_type": "stream",
          "name": "stdout",
          "text": [
            "{65: 'A', 66: 'B', 67: 'C', 68: 'D', 69: 'E', 70: 'F', 71: 'G', 72: 'H', 73: 'I', 74: 'J', 75: 'K', 76: 'L', 77: 'M', 78: 'N', 79: 'O', 80: 'P', 81: 'Q', 82: 'R', 83: 'S', 84: 'T', 85: 'U', 86: 'V', 87: 'W', 88: 'X', 89: 'Y', 90: 'Z'}\n"
          ]
        }
      ]
    },
    {
      "cell_type": "code",
      "source": [
        "# To find the character for the given ASCII value\n",
        "chr(97)"
      ],
      "metadata": {
        "colab": {
          "base_uri": "https://localhost:8080/",
          "height": 36
        },
        "id": "Lapax7lUBCEe",
        "outputId": "20dcaa3f-244e-4af2-9d85-c89b2026e7fa"
      },
      "execution_count": null,
      "outputs": [
        {
          "output_type": "execute_result",
          "data": {
            "text/plain": [
              "'a'"
            ],
            "application/vnd.google.colaboratory.intrinsic+json": {
              "type": "string"
            }
          },
          "metadata": {},
          "execution_count": 61
        }
      ]
    },
    {
      "cell_type": "code",
      "source": [
        "# returns the ASCII value of the given character\n",
        "# ASCII - 'a', 'z', 'A', 'Z'\n",
        "ord('a')"
      ],
      "metadata": {
        "colab": {
          "base_uri": "https://localhost:8080/"
        },
        "id": "xMr0JffIBi_0",
        "outputId": "463d9b70-3d78-4a42-abc4-220b6bd20a2b"
      },
      "execution_count": null,
      "outputs": [
        {
          "output_type": "execute_result",
          "data": {
            "text/plain": [
              "97"
            ]
          },
          "metadata": {},
          "execution_count": 63
        }
      ]
    },
    {
      "cell_type": "code",
      "source": [
        "chr(1)"
      ],
      "metadata": {
        "id": "dRlcnlOKDAKD",
        "outputId": "a08774b4-5d33-48b3-e59d-dda381eb8a3f",
        "colab": {
          "base_uri": "https://localhost:8080/",
          "height": 36
        }
      },
      "execution_count": null,
      "outputs": [
        {
          "output_type": "execute_result",
          "data": {
            "text/plain": [
              "'\\x01'"
            ],
            "application/vnd.google.colaboratory.intrinsic+json": {
              "type": "string"
            }
          },
          "metadata": {},
          "execution_count": 64
        }
      ]
    },
    {
      "cell_type": "code",
      "source": [
        "d={i:chr(i) for i in range(1,11)}\n",
        "print(d)"
      ],
      "metadata": {
        "id": "80yYVsvmC8Iq"
      },
      "execution_count": null,
      "outputs": []
    },
    {
      "cell_type": "markdown",
      "source": [
        "26/11/2024\n",
        "\n",
        "1. Input methods\n",
        "\n",
        "2. File Handling\n",
        "\n",
        "\n",
        "\n"
      ],
      "metadata": {
        "id": "AMO9IKUa6A-4"
      }
    },
    {
      "cell_type": "code",
      "source": [
        "# Read the value of age\n",
        "# Read or get input for an integer\n",
        "age=int(input(\"Enter your age: \"))\n",
        "print(age)"
      ],
      "metadata": {
        "colab": {
          "base_uri": "https://localhost:8080/"
        },
        "id": "wWdutNOl6I6_",
        "outputId": "5e9d98e1-b481-4bb1-970d-e5e28d02f748"
      },
      "execution_count": null,
      "outputs": [
        {
          "output_type": "stream",
          "name": "stdout",
          "text": [
            "Enter your age: 45\n",
            "45\n"
          ]
        }
      ]
    },
    {
      "cell_type": "code",
      "source": [
        "# Read a text or string value\n",
        "\n",
        "name=input(\"Enter your name: \")\n",
        "print(f\"Hello!{name}, How are you\")"
      ],
      "metadata": {
        "colab": {
          "base_uri": "https://localhost:8080/"
        },
        "id": "QlJGiEuI6nYv",
        "outputId": "11d312f9-3613-4e7c-d7e6-9f6609a9acf3"
      },
      "execution_count": null,
      "outputs": [
        {
          "output_type": "stream",
          "name": "stdout",
          "text": [
            "Enter your name: Meenakshi\n",
            "Hello!Meenakshi, How are you\n"
          ]
        }
      ]
    },
    {
      "cell_type": "code",
      "source": [
        "# Read a float value\n",
        "\n",
        "marks=float(input(\"Enter your marks: \"))\n",
        "print(f\"Your score is {marks}\")\n",
        "print(type(marks))"
      ],
      "metadata": {
        "colab": {
          "base_uri": "https://localhost:8080/"
        },
        "id": "ZjFhFMVo7FS2",
        "outputId": "1a2eb166-02d5-466e-aabb-048a9fbff490"
      },
      "execution_count": null,
      "outputs": [
        {
          "output_type": "stream",
          "name": "stdout",
          "text": [
            "Enter your marks: 95.5\n",
            "Your score is 95.5\n",
            "<class 'float'>\n"
          ]
        }
      ]
    },
    {
      "cell_type": "code",
      "source": [
        "# Read multiple values in a single line separated by a white space\n",
        "# by default the separator is a white space, you can change it using an input argument\n",
        "\n",
        "x,y,z=input(\"Enter three values: \").split(\",\")\n",
        "print(x)\n",
        "print(y)\n",
        "print(z)\n",
        "print(type(x))"
      ],
      "metadata": {
        "colab": {
          "base_uri": "https://localhost:8080/"
        },
        "id": "zoMKz-UV7mYv",
        "outputId": "e4123db2-cb54-4117-b915-35edfb7a38fd"
      },
      "execution_count": null,
      "outputs": [
        {
          "output_type": "stream",
          "name": "stdout",
          "text": [
            "Enter three values: 11,22,33\n",
            "11\n",
            "22\n",
            "33\n",
            "<class 'str'>\n"
          ]
        }
      ]
    },
    {
      "cell_type": "code",
      "source": [
        "# Read multiple integer inputs\n",
        "\n",
        "a,b,c = map(int,input(\"Enter three values: \").split(\",\"))\n",
        "\n",
        "print(a)\n",
        "print(b)\n",
        "print(c)\n",
        "print(type(a))"
      ],
      "metadata": {
        "colab": {
          "base_uri": "https://localhost:8080/"
        },
        "id": "CBz88k1m8UjF",
        "outputId": "e20b6476-06db-4c04-9a78-ac77101cf6d2"
      },
      "execution_count": null,
      "outputs": [
        {
          "output_type": "stream",
          "name": "stdout",
          "text": [
            "Enter three values: 11,22,33\n",
            "11\n",
            "22\n",
            "33\n",
            "<class 'int'>\n"
          ]
        }
      ]
    },
    {
      "cell_type": "code",
      "source": [
        "# Read multiple inputs in multiple lines\n",
        "\n",
        "numbers=[]\n",
        "for i in range(3):\n",
        "  numbers.append(int(input(f\"Enter a number {i+1}: \")))\n",
        "\n",
        "print(numbers)"
      ],
      "metadata": {
        "colab": {
          "base_uri": "https://localhost:8080/"
        },
        "id": "XQYpgDRP-g8J",
        "outputId": "2c178d1b-ddd8-444b-b3bb-400f23b6ee42"
      },
      "execution_count": null,
      "outputs": [
        {
          "output_type": "stream",
          "name": "stdout",
          "text": [
            "Enter a number 1: 11\n",
            "Enter a number 2: 12\n",
            "Enter a number 3: 13\n",
            "[11, 12, 13]\n"
          ]
        }
      ]
    },
    {
      "cell_type": "code",
      "source": [
        "# Read multiple string values in multiple lines\n",
        "\n",
        "names=[]\n",
        "for i in range(3):\n",
        "  names.append(input(f\"Enter a name {i+1}: \"))\n",
        "\n",
        "print(names)"
      ],
      "metadata": {
        "colab": {
          "base_uri": "https://localhost:8080/"
        },
        "id": "H97qTBdQ__-X",
        "outputId": "02cb22a1-af7f-4f05-b01d-f7c5c634fa87"
      },
      "execution_count": null,
      "outputs": [
        {
          "output_type": "stream",
          "name": "stdout",
          "text": [
            "Enter a name 1: 11\n",
            "Enter a name 2: 22\n",
            "Enter a name 3: 33\n",
            "['11', '22', '33']\n"
          ]
        }
      ]
    },
    {
      "cell_type": "code",
      "source": [
        "num_list=list(map(int,input(\"Enter three numbers: \").split()))\n",
        "print(num_list)"
      ],
      "metadata": {
        "colab": {
          "base_uri": "https://localhost:8080/"
        },
        "id": "yK-I92-z8Fk-",
        "outputId": "658efd48-cd57-4b5c-8af7-0310a9307fdc"
      },
      "execution_count": null,
      "outputs": [
        {
          "output_type": "stream",
          "name": "stdout",
          "text": [
            "Enter three numbers: 11,22,33\n",
            "[11, 22, 33]\n"
          ]
        }
      ]
    },
    {
      "cell_type": "code",
      "source": [
        "name=input(\"Enter your full name: \")\n",
        "print(f\"Hello! {name}, Welcome to Python\")"
      ],
      "metadata": {
        "colab": {
          "base_uri": "https://localhost:8080/"
        },
        "id": "GbrH6xb1BQja",
        "outputId": "db404f88-e4d6-4b94-c87f-64f2ef4ef049"
      },
      "execution_count": null,
      "outputs": [
        {
          "output_type": "stream",
          "name": "stdout",
          "text": [
            "Enter your full name: aaa bbb ccc\n",
            "Hello! aaa bbb ccc, Welcome to Python\n"
          ]
        }
      ]
    },
    {
      "cell_type": "code",
      "source": [],
      "metadata": {
        "id": "-0dJJUfHGOQZ"
      },
      "execution_count": null,
      "outputs": []
    },
    {
      "cell_type": "code",
      "source": [
        "# Read multiple string values in multiple lines\n",
        "\n",
        "names=[]\n",
        "for i in range(2):\n",
        "  names.append(input(f\"Enter a name {i+1}: \"))\n",
        "\n",
        "print(names)\n",
        "\n",
        "for i in names:\n",
        "  print(i,end=\" \")"
      ],
      "metadata": {
        "colab": {
          "base_uri": "https://localhost:8080/"
        },
        "id": "N6bSgo88CHrA",
        "outputId": "45a80a24-261b-4351-cb39-3ff089da4c38"
      },
      "execution_count": null,
      "outputs": [
        {
          "output_type": "stream",
          "name": "stdout",
          "text": [
            "Enter a name 1: aaa\n",
            "Enter a name 2: bbb\n",
            "['aaa', 'bbb']\n",
            "aaa bbb "
          ]
        }
      ]
    },
    {
      "cell_type": "code",
      "source": [
        "# Read input values to a Dictionary\n",
        "\n",
        "n=int(input(\"Enter the number of students: \"))\n",
        "d={}\n",
        "for i in range(n):\n",
        "  name=input(f\"Enter the name of student {i+1}: \")\n",
        "  marks=float(input(f\"Enter the marks of student {i+1}: \"))\n",
        "  #dictionary is indexed by its key\n",
        "  d[name]=marks\n",
        "\n",
        "print(d)"
      ],
      "metadata": {
        "colab": {
          "base_uri": "https://localhost:8080/"
        },
        "id": "eakDPEKcDAIY",
        "outputId": "c89d37e0-8e6a-4aea-a70b-125f0b7473fc"
      },
      "execution_count": null,
      "outputs": [
        {
          "output_type": "stream",
          "name": "stdout",
          "text": [
            "Enter the number of students: 4\n",
            "Enter the name of student 1: Meenakshi\n",
            "Enter the marks of student 1: 90\n",
            "Enter the name of student 2: Anu\n",
            "Enter the marks of student 2: 95\n",
            "Enter the name of student 3: Banu\n",
            "Enter the marks of student 3: 88\n",
            "Enter the name of student 4: Dhivya\n",
            "Enter the marks of student 4: 75\n",
            "{'Meenakshi': 90.0, 'Anu': 95.0, 'Banu': 88.0, 'Dhivya': 75.0}\n"
          ]
        }
      ]
    },
    {
      "cell_type": "code",
      "source": [
        "# Validating age input - is digit and greater than 0\n",
        "\n",
        "age=input(\"Enter your age: \")\n",
        "if age.isdigit() and int(age)>0:\n",
        "  print(\"Valid age\")\n",
        "else:\n",
        "  print(\"Invalid age\")\n",
        "\n"
      ],
      "metadata": {
        "colab": {
          "base_uri": "https://localhost:8080/"
        },
        "id": "4hyl16rFFJuv",
        "outputId": "85c0399d-4fb4-419e-8b93-1ca154335f27"
      },
      "execution_count": null,
      "outputs": [
        {
          "output_type": "stream",
          "name": "stdout",
          "text": [
            "Enter your age: -11\n",
            "Invalid age\n"
          ]
        }
      ]
    },
    {
      "cell_type": "code",
      "source": [
        "# File handling\n",
        "\n",
        "# Write to a file\n",
        "# Steps\n",
        "#1. Open the file in write mode\n",
        "file=open(\"sample.txt\",\"w\")\n",
        "\n",
        "#2. Write content to the file\n",
        "file.write(\"Hello! Welcome to Python\")\n",
        "\n",
        "#3. Close the file\n",
        "file.close()"
      ],
      "metadata": {
        "id": "BvmCzlYqGP0Z"
      },
      "execution_count": null,
      "outputs": []
    },
    {
      "cell_type": "code",
      "source": [
        "# Read name, age and blood group of 3 students and write it to a file student.txt\n",
        "\n",
        "#1. open the file\n",
        "file=open(\"student.txt\",\"w\")\n",
        "\n",
        "#2. Write content to the file\n",
        "for i in range(3):\n",
        "  name=input(\"Enter your name: \")\n",
        "  age=input(\"Enter your age: \")\n",
        "  blood=input(\"Enter your blood group: \")\n",
        "  file.write(f\"{name} {age} {blood}\\n\")\n",
        "\n",
        "#3. Close the file\n",
        "file.close()\n"
      ],
      "metadata": {
        "colab": {
          "base_uri": "https://localhost:8080/"
        },
        "id": "fsnpw3vuHgJr",
        "outputId": "8cfb1f0b-04cb-45a0-d3ae-0dc6ee101fb3"
      },
      "execution_count": null,
      "outputs": [
        {
          "name": "stdout",
          "output_type": "stream",
          "text": [
            "Enter your name: a\n",
            "Enter your age: a\n",
            "Enter your blood group: a\n",
            "Enter your name: b\n",
            "Enter your age: 12\n",
            "Enter your blood group: \n",
            "Enter your name: d\n",
            "Enter your age: 12\n",
            "Enter your blood group: b+\n"
          ]
        }
      ]
    },
    {
      "cell_type": "code",
      "source": [
        "# Read from sample.txt and display it\n",
        "# read mode -> to read the content of the file that already exist\n",
        "\n",
        "file=open(\"sample.txt\",\"r\")\n",
        "content=file.read()\n",
        "print(content)\n",
        "file.close()"
      ],
      "metadata": {
        "colab": {
          "base_uri": "https://localhost:8080/"
        },
        "id": "T7fbQOg6IqPq",
        "outputId": "8c536873-07ab-40b6-85e2-5eed6a185cf6"
      },
      "execution_count": null,
      "outputs": [
        {
          "output_type": "stream",
          "name": "stdout",
          "text": [
            "Hello! Welcome to Python\n"
          ]
        }
      ]
    },
    {
      "cell_type": "code",
      "source": [
        "# Read the student.txt file and display its content\n",
        "\n",
        "file=open(\"student.txt\",\"r\")\n",
        "# content=file.read()\n",
        "print(file.read())\n",
        "file.close()"
      ],
      "metadata": {
        "colab": {
          "base_uri": "https://localhost:8080/"
        },
        "id": "D0A8d5p7JUTY",
        "outputId": "3d3e8328-6e0b-4073-b316-053dd0102d73"
      },
      "execution_count": null,
      "outputs": [
        {
          "output_type": "stream",
          "name": "stdout",
          "text": [
            "aaa 23 A+\n",
            "bbb 34 B+\n",
            "ccc 43 O+\n",
            "\n"
          ]
        }
      ]
    },
    {
      "cell_type": "code",
      "source": [
        "# Append student data to student.txt\n",
        "\n",
        "file=open(\"student.txt\",\"a\")\n",
        "for i in range(3):\n",
        "  name=input(\"Enter your name: \")\n",
        "  age=input(\"Enter your age: \")\n",
        "  blood=input(\"Enter your blood group: \")\n",
        "  file.write(f\"{name} {age} {blood}\\n\")\n",
        "file.close()\n"
      ],
      "metadata": {
        "colab": {
          "base_uri": "https://localhost:8080/"
        },
        "id": "ygv_q-r2JxZh",
        "outputId": "2474e59f-5656-41e7-8ec5-4727c884c1ed"
      },
      "execution_count": null,
      "outputs": [
        {
          "name": "stdout",
          "output_type": "stream",
          "text": [
            "Enter your name: xxx\n",
            "Enter your age: 33\n",
            "Enter your blood group: A\n",
            "Enter your name: yyy\n",
            "Enter your age: 44\n",
            "Enter your blood group: B\n",
            "Enter your name: zzz\n",
            "Enter your age: 55\n",
            "Enter your blood group: O\n"
          ]
        }
      ]
    },
    {
      "cell_type": "markdown",
      "source": [
        "28/11/2024\n",
        "\n",
        "* File Handling - 'with' statement & Context Manager\n",
        "* Functions - An Introduction to types and simple user-defined function"
      ],
      "metadata": {
        "id": "nV4KKitlO8l8"
      }
    },
    {
      "cell_type": "code",
      "source": [
        "# File handling using 'with'statement - Context manager\n",
        "\n",
        "with open(\"sample.txt\",\"w\") as file:\n",
        "  file.write(\"Hello! Welcome to Python\")"
      ],
      "metadata": {
        "id": "s2QXd9_sPETg"
      },
      "execution_count": null,
      "outputs": []
    },
    {
      "cell_type": "code",
      "source": [
        "# Create a file student.txt and add name, age and blood group of 4 students using context manager\n",
        "\n",
        "\n",
        "with open(\"student.txt\",\"w\") as file:\n",
        "  file.write(\"Name   Age   Blood Group\\n\")\n",
        "  for i in range(2):\n",
        "    name=input(\"Enter your name: \")\n",
        "    age=input(\"Enter your age: \")\n",
        "    blood=input(\"Enter your blood group: \")\n",
        "    file.write(f\"{name} {age} {blood}\\n\")\n"
      ],
      "metadata": {
        "colab": {
          "base_uri": "https://localhost:8080/"
        },
        "id": "7kT5tnN8Pyhc",
        "outputId": "fbdb09eb-e331-4b89-a05c-697be43f5ef2"
      },
      "execution_count": null,
      "outputs": [
        {
          "name": "stdout",
          "output_type": "stream",
          "text": [
            "Enter your name: aaa\n",
            "Enter your age: 12\n",
            "Enter your blood group: A\n",
            "Enter your name: bbb\n",
            "Enter your age: 23\n",
            "Enter your blood group: B\n"
          ]
        }
      ]
    },
    {
      "cell_type": "code",
      "source": [
        "# What happens if I try to read a file that does not exist?\n",
        "try:\n",
        "  with open(\"sample1.txt\",\"r\") as file:\n",
        "    print(file.read())\n",
        "except FileNotFoundError:\n",
        "  print(\"sample1.txt does not exist\")\n",
        "\n"
      ],
      "metadata": {
        "colab": {
          "base_uri": "https://localhost:8080/"
        },
        "id": "4-OCVjegQygX",
        "outputId": "f264bbe1-c0c1-4fec-ac81-0625b05f5ba9"
      },
      "execution_count": null,
      "outputs": [
        {
          "output_type": "stream",
          "name": "stdout",
          "text": [
            "File does not exist\n"
          ]
        }
      ]
    },
    {
      "cell_type": "code",
      "source": [
        "# Functions - Built-in Function, User-defined, lambda function\n",
        "\n",
        "# Create a function to check if a number is divisible by 5\n",
        "\n",
        "# Function Definition\n",
        "def check_divisible(num):\n",
        "  print(num)\n",
        "  if num%5==0:\n",
        "    return True\n",
        "  else:\n",
        "    return False\n",
        "\n",
        "num=100\n",
        "# Function call\n",
        "print(check_divisible(num))\n"
      ],
      "metadata": {
        "colab": {
          "base_uri": "https://localhost:8080/"
        },
        "id": "lGu2_qLvViZY",
        "outputId": "8930761d-4877-4730-bfd1-476041fb44e3"
      },
      "execution_count": null,
      "outputs": [
        {
          "output_type": "stream",
          "name": "stdout",
          "text": [
            "100\n",
            "True\n"
          ]
        }
      ]
    },
    {
      "cell_type": "code",
      "source": [
        "# Create a Python function to count the number of vowels in the given text\n",
        "\n",
        "s1=input(\"Enter the Text: \")\n",
        "\n",
        "def count_vowels(text):\n",
        "  count=0\n",
        "  for i in text:\n",
        "    if i in \"aeiouAEIOU\":\n",
        "      count+=1\n",
        "  return count\n",
        "\n",
        "print(count_vowels(s1))\n"
      ],
      "metadata": {
        "colab": {
          "base_uri": "https://localhost:8080/"
        },
        "id": "qNxgD3dmYljd",
        "outputId": "1960d49f-0f0f-4695-9d34-7ed8db56aff3"
      },
      "execution_count": null,
      "outputs": [
        {
          "output_type": "stream",
          "name": "stdout",
          "text": [
            "Enter the Text: Meenakshi\n",
            "4\n"
          ]
        }
      ]
    },
    {
      "cell_type": "markdown",
      "source": [
        "## 05/12/2024\n",
        "*   Bubble sort\n",
        "\n",
        "*   Insertion sort\n",
        "\n"
      ],
      "metadata": {
        "id": "euCG0j5WxtHT"
      }
    },
    {
      "cell_type": "code",
      "source": [
        "# Simple Bubble sort\n",
        "\n",
        "def bubble_sort(arr):\n",
        "  n=len(arr)\n",
        "  # number of iterations is n-1\n",
        "  for i in range(n-1):\n",
        "    # number of comparisons\n",
        "    for j in range(n-i-1):\n",
        "      if arr[j]>arr[j+1]:\n",
        "        # swapping\n",
        "        arr[j],arr[j+1]=arr[j+1],arr[j]\n",
        "  return arr"
      ],
      "metadata": {
        "id": "lt4La2Jja6b0"
      },
      "execution_count": null,
      "outputs": []
    },
    {
      "cell_type": "markdown",
      "source": [
        "06/12/2024\n",
        "\n",
        "* Linear Search\n",
        "* Binary search\n",
        "* Insertion Sort\n",
        "* Quick Sort"
      ],
      "metadata": {
        "id": "p4iEXhqM8AvJ"
      }
    },
    {
      "cell_type": "code",
      "source": [
        "# Linear search\n",
        "# Finds the location/index of the target element\n",
        "\n",
        "def linear_search(arr,target):\n",
        "  #i is the index\n",
        "  for i in range(len(arr)):\n",
        "    if arr[i]==target:\n",
        "      return i\n",
        "  return -1\n",
        "\n",
        "arr=[1,2,3,4,5,6,7,8,9,10]\n",
        "target=5\n",
        "print(linear_search(arr,target))"
      ],
      "metadata": {
        "colab": {
          "base_uri": "https://localhost:8080/"
        },
        "id": "5hJbLWXc7_zK",
        "outputId": "a337d2de-3bce-4877-ea89-1d7860a9a991"
      },
      "execution_count": null,
      "outputs": [
        {
          "output_type": "stream",
          "name": "stdout",
          "text": [
            "4\n"
          ]
        }
      ]
    },
    {
      "cell_type": "code",
      "source": [
        "# Binary search - sorted list of elements\n",
        "\n",
        "def binary_search(arr,target):\n",
        "  mid=0\n",
        "  low=0\n",
        "  high=len(arr)-1\n",
        "  while low<=high:\n",
        "    mid=(low+high)//2\n",
        "    if arr[mid]==target:\n",
        "      return mid\n",
        "    elif arr[mid]<target:\n",
        "      low=mid+1\n",
        "    else:\n",
        "      high=mid-1\n",
        "  return -1\n",
        "\n",
        "arr=[1,2,3,4,5,6,7,8,9,10]\n",
        "target=5\n",
        "print(binary_search(arr,target))"
      ],
      "metadata": {
        "colab": {
          "base_uri": "https://localhost:8080/"
        },
        "id": "tuYs0ta1iQ5r",
        "outputId": "d44ab0de-75fa-4bea-8329-974f552294fa"
      },
      "execution_count": null,
      "outputs": [
        {
          "output_type": "stream",
          "name": "stdout",
          "text": [
            "4\n"
          ]
        }
      ]
    },
    {
      "cell_type": "code",
      "source": [
        "# insertion sort and the number of comparisons\n",
        "\n",
        "def insertion_sort(arr):\n",
        "  n=len(arr)\n",
        "  for i in range(1,n):\n",
        "    key=arr[i]\n",
        "    j=i\n",
        "    while j>0 and key<arr[j-1]:\n",
        "      arr[j]=arr[j-1]\n",
        "      j-=1\n",
        "    arr[j]=key\n",
        "  return arr\n",
        "arr=[12,11,13,5,6]\n",
        "print(insertion_sort(arr))"
      ],
      "metadata": {
        "colab": {
          "base_uri": "https://localhost:8080/"
        },
        "id": "Kxiv90mZjF0-",
        "outputId": "0afb09cb-bba6-4c50-e309-8b010e561b5d"
      },
      "execution_count": null,
      "outputs": [
        {
          "output_type": "stream",
          "name": "stdout",
          "text": [
            "[5, 6, 11, 12, 13]\n"
          ]
        }
      ]
    },
    {
      "cell_type": "code",
      "source": [
        "# Quick sort\n",
        "\n",
        "def quick_sort(arr):\n",
        "  #Terminating condition or base condition for the recursion\n",
        "  if len(arr)<=1:\n",
        "    return arr\n",
        "  else:\n",
        "    pivot=arr[0]\n",
        "    # has all elements less than pivot\n",
        "    less=[x for x in arr[1:] if x<=pivot]\n",
        "    # all elements greater than the pivot\n",
        "    greater=[x for x in arr[1:] if x>pivot]\n",
        "    return quick_sort(less)+[pivot]+quick_sort(greater)\n",
        "\n",
        "arr=[12,11,13,5,6]\n",
        "print(quick_sort(arr))"
      ],
      "metadata": {
        "colab": {
          "base_uri": "https://localhost:8080/"
        },
        "id": "RuRdHuxhjkkr",
        "outputId": "2c37223e-e50d-4b4c-c3f7-ab4fae0bfdae"
      },
      "execution_count": null,
      "outputs": [
        {
          "output_type": "stream",
          "name": "stdout",
          "text": [
            "[5, 6, 11, 12, 13]\n"
          ]
        }
      ]
    },
    {
      "cell_type": "markdown",
      "source": [
        "07/12/2024\n",
        "\n",
        "* Merge sort\n"
      ],
      "metadata": {
        "id": "w1G-KLi8kOX-"
      }
    },
    {
      "cell_type": "code",
      "source": [
        "# Merge sort - Mergesort is a function to recursively partition the array into subarrays\n",
        "# merge function is used to merge the two sorted subarrays left and right\n",
        "\n",
        "def merge(left, right):\n",
        "  result = []\n",
        "  i = j = 0\n",
        "  # i is the index to keep track of left subarray\n",
        "  # j is the index for the right subarray\n",
        "  while i < len(left) and j < len(right):\n",
        "    if left[i] < right[j]:\n",
        "      result.append(left[i])\n",
        "      i += 1\n",
        "    else:\n",
        "      result.append(right[j])\n",
        "      j += 1\n",
        "  result += left[i:]\n",
        "  result += right[j:]\n",
        "  return result\n",
        "\n",
        "def mergesort(arr):\n",
        "  # Base/terminating condition\n",
        "  if len(arr) <= 1:\n",
        "    return arr\n",
        "  mid = len(arr) // 2\n",
        "  left = mergesort(arr[:mid])\n",
        "  right = mergesort(arr[mid:])\n",
        "  return merge(left, right)\n",
        "\n",
        "\n",
        "arr=[12,11,13,5,6]\n",
        "print(mergesort(arr))\n",
        "\n",
        "\n",
        "\n",
        "\n"
      ],
      "metadata": {
        "id": "ho4WHX48kT7r"
      },
      "execution_count": null,
      "outputs": []
    },
    {
      "cell_type": "code",
      "source": [
        "# Recursive code for Fibonacci sequence\n",
        "\n",
        "def fibonacci(n):\n",
        "  # Base/Terminating condition\n",
        "  if n<=1:\n",
        "    return n\n",
        "  else:\n",
        "    return fibonacci(n-1)+fibonacci(n-2)\n",
        "\n",
        "n=int(input(\"Enter the number of terms: \"))\n",
        "print(fibonacci(n))"
      ],
      "metadata": {
        "colab": {
          "base_uri": "https://localhost:8080/"
        },
        "id": "ZkN56V-2rQO9",
        "outputId": "b9cd13ac-cd3b-4cf2-aa9c-1c8df399893b"
      },
      "execution_count": null,
      "outputs": [
        {
          "output_type": "stream",
          "name": "stdout",
          "text": [
            "Enter the number of terms: 10\n",
            "55\n"
          ]
        }
      ]
    },
    {
      "cell_type": "markdown",
      "source": [
        "16-12-2024\n",
        "\n",
        "1. Two Cities Problem\n",
        "2. Baker's Problem"
      ],
      "metadata": {
        "id": "S685WhKW0h5O"
      }
    },
    {
      "cell_type": "code",
      "source": [
        "# prompt: Find the inverse of the matrix (7 2,2 10) and multiply it with (37, 86)\n",
        "\n",
        "import numpy as np\n",
        "\n",
        "# Define the matrix\n",
        "matrix = np.array([[7, 2], [2, 10]])\n",
        "\n",
        "# Define the vector\n",
        "vector = np.array([37, 86])\n",
        "\n",
        "# Calculate the inverse of the matrix\n",
        "try:\n",
        "  inverse_matrix = np.linalg.inv(matrix)\n",
        "\n",
        "  # Multiply the inverse matrix with the vector\n",
        "  result = np.dot(inverse_matrix, vector)\n",
        "\n",
        "  print(result)\n",
        "except np.linalg.LinAlgError:\n",
        "    print(\"The matrix is singular and does not have an inverse.\")"
      ],
      "metadata": {
        "colab": {
          "base_uri": "https://localhost:8080/"
        },
        "id": "uhTXMMCs0qr8",
        "outputId": "14c31836-9167-4e6d-c544-9842bdedc271"
      },
      "execution_count": null,
      "outputs": [
        {
          "output_type": "stream",
          "name": "stdout",
          "text": [
            "[3. 8.]\n"
          ]
        }
      ]
    },
    {
      "cell_type": "code",
      "source": [
        "# prompt: Find the inverse of the matrix (3 1,1 2)and multiply it with (12,10)\n",
        "\n",
        "import numpy as np\n",
        "\n",
        "# Define the matrix\n",
        "matrix = np.array([[3, 1], [1, 2]])\n",
        "\n",
        "# Define the vector\n",
        "vector = np.array([12, 10])\n",
        "\n",
        "# Calculate the inverse of the matrix\n",
        "try:\n",
        "  inverse_matrix = np.linalg.inv(matrix)\n",
        "\n",
        "  # Multiply the inverse matrix with the vector\n",
        "  result = np.dot(inverse_matrix, vector)\n",
        "\n",
        "  print(result)\n",
        "except np.linalg.LinAlgError:\n",
        "    print(\"The matrix is singular and does not have an inverse.\")"
      ],
      "metadata": {
        "colab": {
          "base_uri": "https://localhost:8080/"
        },
        "id": "daFhXdHQDGaK",
        "outputId": "48cdd4d3-40df-415e-a47d-72602905fb86"
      },
      "execution_count": null,
      "outputs": [
        {
          "output_type": "stream",
          "name": "stdout",
          "text": [
            "[2.8 3.6]\n"
          ]
        }
      ]
    },
    {
      "cell_type": "code",
      "source": [
        "# prompt: Find the matrix M with first column (3,1,1) and second column (1,2,1)\n",
        "\n",
        "import numpy as np\n",
        "\n",
        "# Define the matrix M\n",
        "M = np.array([[3, 1],\n",
        "              [1, 2],\n",
        "              [1, 1]])\n",
        "\n",
        "M"
      ],
      "metadata": {
        "colab": {
          "base_uri": "https://localhost:8080/"
        },
        "id": "yi5uapoHGIIv",
        "outputId": "767301d7-5a31-4684-d168-254ccc00862e"
      },
      "execution_count": null,
      "outputs": [
        {
          "output_type": "execute_result",
          "data": {
            "text/plain": [
              "array([[3, 1],\n",
              "       [1, 2],\n",
              "       [1, 1]])"
            ]
          },
          "metadata": {},
          "execution_count": 3
        }
      ]
    },
    {
      "cell_type": "code",
      "source": [
        "# prompt: Find the inverse of M and multiply it with (12,10,9)\n",
        "\n",
        "import numpy as np\n",
        "\n",
        "# Define the matrix M\n",
        "M = np.array([[3, 1],\n",
        "              [1, 2],\n",
        "              [1, 1]])\n",
        "\n",
        "# Define the vector\n",
        "vector = np.array([12, 10, 9])\n",
        "\n",
        "# Check if the matrix is square and invertible\n",
        "if M.shape[0] == M.shape[1]:\n",
        "    try:\n",
        "        # Calculate the inverse of the matrix M\n",
        "        M_inv = np.linalg.inv(M)\n",
        "\n",
        "        # Multiply the inverse of M with the vector (12, 10, 9)\n",
        "        result = np.dot(M_inv, vector)\n",
        "\n",
        "        print(result)\n",
        "    except np.linalg.LinAlgError:\n",
        "        print(\"Matrix is singular and does not have an inverse.\")\n",
        "else:\n",
        "    print(\"Matrix is not square and cannot be inverted.\")"
      ],
      "metadata": {
        "colab": {
          "base_uri": "https://localhost:8080/"
        },
        "id": "2D8rkT02GXQP",
        "outputId": "df1397db-c8b7-42e1-eed3-6cbdec3f0394"
      },
      "execution_count": null,
      "outputs": [
        {
          "output_type": "stream",
          "name": "stdout",
          "text": [
            "Matrix is not square and cannot be inverted.\n"
          ]
        }
      ]
    },
    {
      "cell_type": "code",
      "source": [
        "# prompt:  figure out a,c such that M*(a,c)=(12,10,9)\n",
        "\n",
        "import numpy as np\n",
        "\n",
        "# Define the matrix M\n",
        "M = np.array([[3, 1],\n",
        "              [1, 2],\n",
        "              [1, 1]])\n",
        "\n",
        "# Define the vector b\n",
        "b = np.array([12, 10, 9])\n",
        "\n",
        "# We are looking for a and c such that M * [a, c] = b\n",
        "# Since M is not a square matrix, we can't directly find the inverse.\n",
        "# We can use the least squares method to find the best approximate solution.\n",
        "\n",
        "# Calculate the pseudo-inverse of M\n",
        "M_pinv = np.linalg.pinv(M)\n",
        "\n",
        "# Multiply the pseudo-inverse with the vector b\n",
        "x = np.dot(M_pinv, b)\n",
        "\n",
        "# Extract a and c from the result\n",
        "a = x[0]\n",
        "c = x[1]\n",
        "\n",
        "print(f\"a = {a}\")\n",
        "print(f\"c = {c}\")\n",
        "\n",
        "# Verify the solution (approximately)\n",
        "print(f\"M * [a, c] = {np.dot(M, x)}\")"
      ],
      "metadata": {
        "colab": {
          "base_uri": "https://localhost:8080/"
        },
        "id": "0p7YMUZZLIRi",
        "outputId": "911960a8-786a-4936-b577-72fecf98f872"
      },
      "execution_count": null,
      "outputs": [
        {
          "output_type": "stream",
          "name": "stdout",
          "text": [
            "a = 2.7999999999999985\n",
            "c = 4.033333333333333\n",
            "M * [a, c] = [12.43333333 10.86666667  6.83333333]\n"
          ]
        }
      ]
    }
  ],
  "metadata": {
    "colab": {
      "provenance": []
    },
    "kernelspec": {
      "display_name": "Python 3",
      "name": "python3"
    },
    "language_info": {
      "name": "python"
    }
  },
  "nbformat": 4,
  "nbformat_minor": 0
}